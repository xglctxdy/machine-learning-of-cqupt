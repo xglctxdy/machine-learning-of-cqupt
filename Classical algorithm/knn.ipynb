{
 "cells": [
  {
   "cell_type": "code",
   "execution_count": 1,
   "metadata": {
    "collapsed": true,
    "ExecuteTime": {
     "end_time": "2023-05-12T11:15:11.744529100Z",
     "start_time": "2023-05-12T11:15:11.165163600Z"
    }
   },
   "outputs": [],
   "source": [
    "import pandas as pd\n",
    "from sklearn import datasets\n",
    "from sklearn.model_selection import train_test_split\n",
    "from sklearn.preprocessing import StandardScaler\n",
    "from sklearn.neighbors import KNeighborsClassifier\n",
    "import numpy as np\n",
    "import math\n",
    "import collections"
   ]
  },
  {
   "cell_type": "code",
   "execution_count": 2,
   "outputs": [
    {
     "name": "stdout",
     "output_type": "stream",
     "text": [
      "[[5.1 3.5 1.4 0.2]\n",
      " [4.9 3.  1.4 0.2]\n",
      " [4.7 3.2 1.3 0.2]\n",
      " [4.6 3.1 1.5 0.2]\n",
      " [5.  3.6 1.4 0.2]\n",
      " [5.4 3.9 1.7 0.4]\n",
      " [4.6 3.4 1.4 0.3]\n",
      " [5.  3.4 1.5 0.2]\n",
      " [4.4 2.9 1.4 0.2]\n",
      " [4.9 3.1 1.5 0.1]]\n",
      "[0 0 0 0 0 0 0 0 0 0]\n",
      ".. _iris_dataset:\n",
      "\n",
      "Iris plants dataset\n",
      "--------------------\n",
      "\n",
      "**Data Set Characteristics:**\n",
      "\n",
      "    :Number of Instances: 150 (50 in each of three classes)\n",
      "    :Number of Attributes: 4 numeric, predictive attributes and the class\n",
      "    :Attribute Information:\n",
      "        - sepal length in cm\n",
      "        - sepal width in cm\n",
      "        - petal length in cm\n",
      "        - petal width in cm\n",
      "        - class:\n",
      "                - Iris-Setosa\n",
      "                - Iris-Versicolour\n",
      "                - Iris-Virginica\n",
      "                \n",
      "    :Summary Statistics:\n",
      "\n",
      "    ============== ==== ==== ======= ===== ====================\n",
      "                    Min  Max   Mean    SD   Class Correlation\n",
      "    ============== ==== ==== ======= ===== ====================\n",
      "    sepal length:   4.3  7.9   5.84   0.83    0.7826\n",
      "    sepal width:    2.0  4.4   3.05   0.43   -0.4194\n",
      "    petal length:   1.0  6.9   3.76   1.76    0.9490  (high!)\n",
      "    petal width:    0.1  2.5   1.20   0.76    0.9565  (high!)\n",
      "    ============== ==== ==== ======= ===== ====================\n",
      "\n",
      "    :Missing Attribute Values: None\n",
      "    :Class Distribution: 33.3% for each of 3 classes.\n",
      "    :Creator: R.A. Fisher\n",
      "    :Donor: Michael Marshall (MARSHALL%PLU@io.arc.nasa.gov)\n",
      "    :Date: July, 1988\n",
      "\n",
      "The famous Iris database, first used by Sir R.A. Fisher. The dataset is taken\n",
      "from Fisher's paper. Note that it's the same as in R, but not as in the UCI\n",
      "Machine Learning Repository, which has two wrong data points.\n",
      "\n",
      "This is perhaps the best known database to be found in the\n",
      "pattern recognition literature.  Fisher's paper is a classic in the field and\n",
      "is referenced frequently to this day.  (See Duda & Hart, for example.)  The\n",
      "data set contains 3 classes of 50 instances each, where each class refers to a\n",
      "type of iris plant.  One class is linearly separable from the other 2; the\n",
      "latter are NOT linearly separable from each other.\n",
      "\n",
      ".. topic:: References\n",
      "\n",
      "   - Fisher, R.A. \"The use of multiple measurements in taxonomic problems\"\n",
      "     Annual Eugenics, 7, Part II, 179-188 (1936); also in \"Contributions to\n",
      "     Mathematical Statistics\" (John Wiley, NY, 1950).\n",
      "   - Duda, R.O., & Hart, P.E. (1973) Pattern Classification and Scene Analysis.\n",
      "     (Q327.D83) John Wiley & Sons.  ISBN 0-471-22361-1.  See page 218.\n",
      "   - Dasarathy, B.V. (1980) \"Nosing Around the Neighborhood: A New System\n",
      "     Structure and Classification Rule for Recognition in Partially Exposed\n",
      "     Environments\".  IEEE Transactions on Pattern Analysis and Machine\n",
      "     Intelligence, Vol. PAMI-2, No. 1, 67-71.\n",
      "   - Gates, G.W. (1972) \"The Reduced Nearest Neighbor Rule\".  IEEE Transactions\n",
      "     on Information Theory, May 1972, 431-433.\n",
      "   - See also: 1988 MLC Proceedings, 54-64.  Cheeseman et al\"s AUTOCLASS II\n",
      "     conceptual clustering system finds 3 classes in the data.\n",
      "   - Many, many more ...\n"
     ]
    }
   ],
   "source": [
    "iris = datasets.load_iris()\n",
    "x = iris.data\n",
    "y = iris.target\n",
    "print(x[0:10])\n",
    "print(y[0:10])\n",
    "print(iris.DESCR)"
   ],
   "metadata": {
    "collapsed": false,
    "ExecuteTime": {
     "end_time": "2023-05-12T11:15:30.182841400Z",
     "start_time": "2023-05-12T11:15:30.158304800Z"
    }
   }
  },
  {
   "cell_type": "code",
   "execution_count": 3,
   "outputs": [
    {
     "name": "stdout",
     "output_type": "stream",
     "text": [
      "<class 'numpy.ndarray'>\n",
      "120\n",
      "30\n",
      "[[5.1 3.4 1.5 0.2]\n",
      " [5.5 4.2 1.4 0.2]\n",
      " [4.9 3.6 1.4 0.1]\n",
      " [4.6 3.6 1.  0.2]\n",
      " [7.6 3.  6.6 2.1]]\n"
     ]
    }
   ],
   "source": [
    "X_train, X_test, Y_train, Y_test = train_test_split(x, y, train_size=0.8)\n",
    "print(type(Y_train))\n",
    "print(len(Y_train))\n",
    "print(len(Y_test))\n",
    "print(X_train[0:5])"
   ],
   "metadata": {
    "collapsed": false,
    "ExecuteTime": {
     "end_time": "2023-05-12T11:15:30.734220300Z",
     "start_time": "2023-05-12T11:15:30.724615300Z"
    }
   }
  },
  {
   "cell_type": "code",
   "execution_count": 4,
   "outputs": [
    {
     "name": "stdout",
     "output_type": "stream",
     "text": [
      "[[-0.90854496  0.7269493  -1.25466468 -1.30109579]\n",
      " [-0.42559747  2.51636296 -1.3105725  -1.30109579]\n",
      " [-1.15001871  1.17430272 -1.3105725  -1.43055806]\n",
      " [-1.51222932  1.17430272 -1.53420378 -1.30109579]\n",
      " [ 2.10987684 -0.16775753  1.59663418  1.1586873 ]]\n",
      "[0 0 0 0 2]\n"
     ]
    }
   ],
   "source": [
    "std = StandardScaler()\n",
    "X_train = std.fit_transform(X_train)\n",
    "X_test = std.transform(X_test)\n",
    "print(X_train[0:5])\n",
    "print(Y_train[0:5])"
   ],
   "metadata": {
    "collapsed": false,
    "ExecuteTime": {
     "end_time": "2023-05-12T11:15:31.825698400Z",
     "start_time": "2023-05-12T11:15:31.809689600Z"
    }
   }
  },
  {
   "cell_type": "code",
   "execution_count": 5,
   "outputs": [],
   "source": [
    "class knn:\n",
    "    def __init__(self, datas, labels, n_neighbors=6):\n",
    "        self.datas = datas\n",
    "        self.labels = labels\n",
    "        self.k = n_neighbors\n",
    "\n",
    "    def distance(self, cur, target):\n",
    "        # cur和target都是一个一维向量，代表当前的坐标\n",
    "        # 计算两个点之间的欧拉距离\n",
    "        dis = 0\n",
    "        for i in range(len(cur)):\n",
    "            dis += (cur[i] - target[i]) ** 2\n",
    "        dis = math.sqrt(dis)\n",
    "        return dis\n",
    "\n",
    "    def predict(self, cur_data):\n",
    "        ans = []\n",
    "        for i in cur_data:\n",
    "            # dis存储当前这个点到相应点的距离，那个点所属的label\n",
    "            dis = []\n",
    "            for j in range(len(self.datas)):\n",
    "                dis.append([self.distance(i, self.datas[j]), self.labels[j]])\n",
    "            sorted_list = sorted(dis, key=lambda x: x[0])\n",
    "            # t存储当前前k个最近的点的labels\n",
    "            t = []\n",
    "            for j in range(self.k):\n",
    "                t.append(sorted_list[j][1])\n",
    "            # 找出t中出现次数最多的labels做为i的label\n",
    "            count = collections.Counter(t)\n",
    "            ans.append(count.most_common(1)[0][0])\n",
    "        return ans"
   ],
   "metadata": {
    "collapsed": false,
    "ExecuteTime": {
     "end_time": "2023-05-12T11:15:32.586975500Z",
     "start_time": "2023-05-12T11:15:32.568624800Z"
    }
   }
  },
  {
   "cell_type": "code",
   "execution_count": 6,
   "outputs": [
    {
     "name": "stdout",
     "output_type": "stream",
     "text": [
      "实际结果为\n",
      "[1 1 1 0 1 1 0 0 2 0 1 0 0 0 0 2 1 1 1 2 2 0 2 2 2 1 2 2 1 2]\n",
      "调包预测结果为\n",
      "[1 1 1 0 1 1 0 0 2 0 1 0 0 0 0 2 1 1 1 1 2 0 2 2 2 1 2 2 1 2]\n",
      "手算预测结果为\n",
      "[1, 1, 1, 0, 1, 1, 0, 0, 2, 0, 1, 0, 0, 0, 0, 2, 1, 1, 1, 1, 2, 0, 2, 2, 2, 1, 2, 2, 1, 2]\n"
     ]
    }
   ],
   "source": [
    "KNN = knn(X_train, Y_train)\n",
    "pre = KNN.predict(X_test)\n",
    "\n",
    "knn = KNeighborsClassifier(n_neighbors=5)\n",
    "knn.fit(X_train, Y_train)\n",
    "Y_predict = knn.predict(X_test)\n",
    "\n",
    "print(\"实际结果为\")\n",
    "print(Y_test)\n",
    "print(\"调包预测结果为\")\n",
    "print(Y_predict)\n",
    "print(\"手算预测结果为\")\n",
    "print(pre)"
   ],
   "metadata": {
    "collapsed": false,
    "ExecuteTime": {
     "end_time": "2023-05-12T11:15:33.432729400Z",
     "start_time": "2023-05-12T11:15:33.379633200Z"
    }
   }
  },
  {
   "cell_type": "code",
   "execution_count": null,
   "outputs": [],
   "source": [],
   "metadata": {
    "collapsed": false
   }
  }
 ],
 "metadata": {
  "kernelspec": {
   "display_name": "Python 3",
   "language": "python",
   "name": "python3"
  },
  "language_info": {
   "codemirror_mode": {
    "name": "ipython",
    "version": 2
   },
   "file_extension": ".py",
   "mimetype": "text/x-python",
   "name": "python",
   "nbconvert_exporter": "python",
   "pygments_lexer": "ipython2",
   "version": "2.7.6"
  }
 },
 "nbformat": 4,
 "nbformat_minor": 0
}
