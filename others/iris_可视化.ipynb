{
 "cells": [
  {
   "cell_type": "code",
   "execution_count": 9,
   "metadata": {
    "collapsed": true,
    "ExecuteTime": {
     "end_time": "2023-11-15T07:29:45.789847800Z",
     "start_time": "2023-11-15T07:29:45.696255900Z"
    }
   },
   "outputs": [
    {
     "name": "stderr",
     "output_type": "stream",
     "text": [
      "E:\\code\\pycharm\\pytorch\\venv\\lib\\site-packages\\sklearn\\utils\\validation.py:767: FutureWarning: is_sparse is deprecated and will be removed in a future version. Check `isinstance(dtype, pd.SparseDtype)` instead.\n",
      "  if not hasattr(array, \"sparse\") and array.dtypes.apply(is_sparse).any():\n",
      "E:\\code\\pycharm\\pytorch\\venv\\lib\\site-packages\\sklearn\\utils\\validation.py:605: FutureWarning: is_sparse is deprecated and will be removed in a future version. Check `isinstance(dtype, pd.SparseDtype)` instead.\n",
      "  if is_sparse(pd_dtype):\n",
      "E:\\code\\pycharm\\pytorch\\venv\\lib\\site-packages\\sklearn\\utils\\validation.py:614: FutureWarning: is_sparse is deprecated and will be removed in a future version. Check `isinstance(dtype, pd.SparseDtype)` instead.\n",
      "  if is_sparse(pd_dtype) or not is_extension_array_dtype(pd_dtype):\n"
     ]
    }
   ],
   "source": [
    "import pandas as pd\n",
    "from sklearn.decomposition import PCA\n",
    "from bokeh.plotting import figure, show\n",
    "from bokeh.models import ColumnDataSource\n",
    "from bokeh.transform import factor_cmap\n",
    "from bokeh.palettes import Category10_3\n",
    "\n",
    "iris_df = pd.read_csv('../data/Iris_data/iris.csv')\n",
    "\n",
    "# 提取特征和目标变量\n",
    "X = iris_df.drop('Species', axis=1)\n",
    "y = iris_df['Species']\n",
    "\n",
    "# 使用PCA进行降维\n",
    "pca = PCA(n_components=2)\n",
    "X_pca = pca.fit_transform(X)\n",
    "\n",
    "# 创建包含降维后数据的新DataFrame\n",
    "pca_df = pd.DataFrame(data=X_pca, columns=['PCA1', 'PCA2'])\n",
    "pca_df['Species'] = y\n",
    "\n",
    "# 创建ColumnDataSource\n",
    "source = ColumnDataSource(pca_df)\n",
    "\n",
    "# 创建绘图对象\n",
    "p = figure(title='鸢尾花数据集降维后散点图', width=800, height=400)\n",
    "\n",
    "# 绘制散点图\n",
    "p.circle(x='PCA1', y='PCA2', size=10, color=factor_cmap('Species', palette=Category10_3, factors=pca_df['Species'].unique()), legend_field='Species', source=source)\n",
    "\n",
    "# 设置图表属性\n",
    "p.title.text_font_size = '16pt'\n",
    "p.xaxis.axis_label = 'Principal Component 1'\n",
    "p.yaxis.axis_label = 'Principal Component 2'\n",
    "p.legend.title = 'Species'\n",
    "\n",
    "# 显示图表\n",
    "show(p)"
   ]
  }
 ],
 "metadata": {
  "kernelspec": {
   "display_name": "Python 3",
   "language": "python",
   "name": "python3"
  },
  "language_info": {
   "codemirror_mode": {
    "name": "ipython",
    "version": 2
   },
   "file_extension": ".py",
   "mimetype": "text/x-python",
   "name": "python",
   "nbconvert_exporter": "python",
   "pygments_lexer": "ipython2",
   "version": "2.7.6"
  }
 },
 "nbformat": 4,
 "nbformat_minor": 0
}
